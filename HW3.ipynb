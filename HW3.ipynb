{
  "nbformat": 4,
  "nbformat_minor": 0,
  "metadata": {
    "colab": {
      "name": "HW3",
      "provenance": [],
      "authorship_tag": "ABX9TyMdzYBfukquLqJKhhOjSQPZ",
      "include_colab_link": true
    },
    "kernelspec": {
      "name": "python3",
      "display_name": "Python 3"
    }
  },
  "cells": [
    {
      "cell_type": "markdown",
      "metadata": {
        "id": "view-in-github",
        "colab_type": "text"
      },
      "source": [
        "<a href=\"https://colab.research.google.com/github/filipkowskii/MEB/blob/master/HW3.ipynb\" target=\"_parent\"><img src=\"https://colab.research.google.com/assets/colab-badge.svg\" alt=\"Open In Colab\"/></a>"
      ]
    },
    {
      "cell_type": "code",
      "metadata": {
        "id": "u-tea-ZZ4QaP"
      },
      "source": [
        "!git clone --depth 1 https://github.com/profteachkids/CHE2064.git &> /dev/null\n",
        "!pip install DotMap &> /dev/null\n",
        "#brings in Dotmap\n",
        "\n",
        "import sys\n",
        "sys.path.insert(1, \"/content/CHE2064\") \n",
        "#Path to CHE module imports"
      ],
      "execution_count": 1,
      "outputs": []
    },
    {
      "cell_type": "code",
      "metadata": {
        "id": "G50u9h-p4Vyf"
      },
      "source": [
        "from dotmap import DotMap\n",
        "import pandas as pd\n",
        "import jax\n",
        "from jax.lax import stop_gradient\n",
        "import jax.numpy as jnp\n",
        "from jax.config import config\n",
        "config.update(\"jax_enable_x64\", True) #JAX default is 32bit single precision\n",
        "from tools.tree_array_transform import VSC, Comp, Range\n",
        "import tools.che as che\n",
        "R=8.314 # J/(mol K)"
      ],
      "execution_count": 2,
      "outputs": []
    },
    {
      "cell_type": "code",
      "metadata": {
        "id": "5H2imrPZ4lF6"
      },
      "source": [
        "p = che.Props(['Nitrogen','Oxygen', 'Argon', 'Water'])\n",
        "#compound information given by Co's program"
      ],
      "execution_count": 3,
      "outputs": []
    },
    {
      "cell_type": "code",
      "metadata": {
        "id": "OqWKdL4U4r5h",
        "outputId": "467d0250-b30b-4f68-974c-1a5c95d5568e",
        "colab": {
          "base_uri": "https://localhost:8080/",
          "height": 50
        }
      },
      "source": [
        "def model(c,r):\n",
        "    # c: combination of adjustable variables and static state parameters\n",
        "    # r: DotMap - store intermediate results for reporting\n",
        "\n",
        "    r.Pw = p.Pvap(c.T)[3] \n",
        "    # gives partial pressure of water- WOULD be found using Antoine's equation, but Co stores it for us\n",
        "    # [3] = water information - index 3 of che.Props\n",
        "\n",
        "    r.P = c.air_n * R * c.T / c.V_vap + r.Pw\n",
        "    #first unknown equation ( P = (nair*R*T)/Vvap) + Pvap(T) )\n",
        "\n",
        "    return (c.P_f, r.P)\n",
        "\n",
        "c=DotMap()\n",
        "#stores values in a dotmap\n",
        "\n",
        "c.W_tot = 1. # 1 kg\n",
        "c.V_tot = 0.01 # 10 Liters\n",
        "c.P_i = 1e5 # Pa air pressure\n",
        "c.P_f = 2e5 # Pa final pressure\n",
        "c.T_i = 298.\n",
        "# all above are values given in the problem\n",
        "\n",
        "c.Vw_i = c.W_tot/p.rhol(c.T_i)[3]\n",
        "# initial volume of water = mass / density of water\n",
        "\n",
        "c.V_vap = c.V_tot - c.Vw_i \n",
        "# volume of air (vapor phase) = total volume - initial volume of water (given)\n",
        "# Approximation - water in the vapor phase is negligible\n",
        "\n",
        "c.air_n = c.P_i * c.V_vap / (R * c.T_i)\n",
        "# moles of air = initial pressure * volume of air (vapor phase)/(R * initial temperature)\n",
        "\n",
        "c.T = Range(350,300,600)\n",
        "# range for temp. values (reasonable guess- 350, min-300, max-600)"
      ],
      "execution_count": 4,
      "outputs": [
        {
          "output_type": "stream",
          "text": [
            "/usr/local/lib/python3.6/dist-packages/jax/lib/xla_bridge.py:130: UserWarning: No GPU/TPU found, falling back to CPU.\n",
            "  warnings.warn('No GPU/TPU found, falling back to CPU.')\n"
          ],
          "name": "stderr"
        }
      ]
    },
    {
      "cell_type": "code",
      "metadata": {
        "id": "JEft1JAi8TTk",
        "outputId": "cd037a24-bc61-4b62-c244-5bafc95a2d38",
        "colab": {
          "base_uri": "https://localhost:8080/",
          "height": 269
        }
      },
      "source": [
        "# VSC is code written by Co as well to transform our model into one that takes a single \n",
        "# array of adjustable variables for minimization.  \n",
        "# Unnecessary for this simple model with just 1 variable, \n",
        "# but very helpful for more complex problems later.\n",
        "\n",
        "vsc=VSC(c,model)\n",
        "vsc.solve()\n",
        "\n",
        "# now we've set the parameter of our desired pressure"
      ],
      "execution_count": 5,
      "outputs": [
        {
          "output_type": "stream",
          "text": [
            "0.001973574785335787\n",
            "0.0006606517658790154\n",
            "0.0006606517658790154\n",
            "1.5272366214780464e-05\n",
            "1.5272366214780464e-05\n",
            "1.5272366214780464e-05\n",
            "1.213645372823828e-08\n",
            "1.213645372823828e-08\n",
            "1.213645372823828e-08\n",
            "6.020159869574761e-14\n",
            "6.020159869574761e-14\n",
            "6.020159869574761e-14\n",
            "6.020159869574761e-14\n",
            "6.020159869574761e-14\n",
            "6.409037068602645e-20\n"
          ],
          "name": "stdout"
        }
      ]
    },
    {
      "cell_type": "code",
      "metadata": {
        "id": "JF-QGlo08fXF",
        "outputId": "a836c76b-11b6-4b99-a77d-568e03dc3cf0",
        "colab": {
          "base_uri": "https://localhost:8080/",
          "height": 106
        }
      },
      "source": [
        "# DataFrame of adjustable variables -- (vdf == variable data frame) temperature!\n",
        "vsc.vdf"
      ],
      "execution_count": 6,
      "outputs": [
        {
          "output_type": "execute_result",
          "data": {
            "text/html": [
              "<div>\n",
              "<style scoped>\n",
              "    .dataframe tbody tr th:only-of-type {\n",
              "        vertical-align: middle;\n",
              "    }\n",
              "\n",
              "    .dataframe tbody tr th {\n",
              "        vertical-align: top;\n",
              "    }\n",
              "\n",
              "    .dataframe thead tr th {\n",
              "        text-align: left;\n",
              "    }\n",
              "</style>\n",
              "<table border=\"1\" class=\"dataframe\">\n",
              "  <thead>\n",
              "    <tr>\n",
              "      <th></th>\n",
              "      <th>vector1</th>\n",
              "    </tr>\n",
              "    <tr>\n",
              "      <th></th>\n",
              "      <th>1</th>\n",
              "    </tr>\n",
              "  </thead>\n",
              "  <tbody>\n",
              "    <tr>\n",
              "      <th>T</th>\n",
              "      <td>365.719235</td>\n",
              "    </tr>\n",
              "  </tbody>\n",
              "</table>\n",
              "</div>"
            ],
            "text/plain": [
              "      vector1\n",
              "            1\n",
              "T  365.719235"
            ]
          },
          "metadata": {
            "tags": []
          },
          "execution_count": 6
        }
      ]
    },
    {
      "cell_type": "code",
      "metadata": {
        "id": "sKMHheBp8__f",
        "outputId": "fe2f0073-20ed-4570-bf5a-fadc865eaa3b",
        "colab": {
          "base_uri": "https://localhost:8080/",
          "height": 136
        }
      },
      "source": [
        "# Dataframe of intermediate results (stuff up top beginning with r.____)\n",
        "vsc.rdf"
      ],
      "execution_count": 7,
      "outputs": [
        {
          "output_type": "execute_result",
          "data": {
            "text/html": [
              "<div>\n",
              "<style scoped>\n",
              "    .dataframe tbody tr th:only-of-type {\n",
              "        vertical-align: middle;\n",
              "    }\n",
              "\n",
              "    .dataframe tbody tr th {\n",
              "        vertical-align: top;\n",
              "    }\n",
              "\n",
              "    .dataframe thead tr th {\n",
              "        text-align: left;\n",
              "    }\n",
              "</style>\n",
              "<table border=\"1\" class=\"dataframe\">\n",
              "  <thead>\n",
              "    <tr>\n",
              "      <th></th>\n",
              "      <th>vector1</th>\n",
              "    </tr>\n",
              "    <tr>\n",
              "      <th></th>\n",
              "      <th>1</th>\n",
              "    </tr>\n",
              "  </thead>\n",
              "  <tbody>\n",
              "    <tr>\n",
              "      <th>Pw</th>\n",
              "      <td>77275.424480</td>\n",
              "    </tr>\n",
              "    <tr>\n",
              "      <th>P</th>\n",
              "      <td>200000.000101</td>\n",
              "    </tr>\n",
              "  </tbody>\n",
              "</table>\n",
              "</div>"
            ],
            "text/plain": [
              "          vector1\n",
              "                1\n",
              "Pw   77275.424480\n",
              "P   200000.000101"
            ]
          },
          "metadata": {
            "tags": []
          },
          "execution_count": 7
        }
      ]
    },
    {
      "cell_type": "code",
      "metadata": {
        "id": "66lkME6c9am8",
        "outputId": "6c4d8bba-3aad-4e1f-b9c1-9850ca6a0d2f",
        "colab": {
          "base_uri": "https://localhost:8080/",
          "height": 314
        }
      },
      "source": [
        "# Dataframe of static state parameters (sdf == static data frame) -- shows everything we started with inputting\n",
        "vsc.sdf"
      ],
      "execution_count": 8,
      "outputs": [
        {
          "output_type": "execute_result",
          "data": {
            "text/html": [
              "<div>\n",
              "<style scoped>\n",
              "    .dataframe tbody tr th:only-of-type {\n",
              "        vertical-align: middle;\n",
              "    }\n",
              "\n",
              "    .dataframe tbody tr th {\n",
              "        vertical-align: top;\n",
              "    }\n",
              "\n",
              "    .dataframe thead tr th {\n",
              "        text-align: left;\n",
              "    }\n",
              "</style>\n",
              "<table border=\"1\" class=\"dataframe\">\n",
              "  <thead>\n",
              "    <tr>\n",
              "      <th></th>\n",
              "      <th>vector1</th>\n",
              "    </tr>\n",
              "    <tr>\n",
              "      <th></th>\n",
              "      <th>1</th>\n",
              "    </tr>\n",
              "  </thead>\n",
              "  <tbody>\n",
              "    <tr>\n",
              "      <th>Vw_i</th>\n",
              "      <td>0.001005</td>\n",
              "    </tr>\n",
              "    <tr>\n",
              "      <th>P_i</th>\n",
              "      <td>100000.000000</td>\n",
              "    </tr>\n",
              "    <tr>\n",
              "      <th>air_n</th>\n",
              "      <td>0.363057</td>\n",
              "    </tr>\n",
              "    <tr>\n",
              "      <th>T_i</th>\n",
              "      <td>298.000000</td>\n",
              "    </tr>\n",
              "    <tr>\n",
              "      <th>V_vap</th>\n",
              "      <td>0.008995</td>\n",
              "    </tr>\n",
              "    <tr>\n",
              "      <th>P_f</th>\n",
              "      <td>200000.000000</td>\n",
              "    </tr>\n",
              "    <tr>\n",
              "      <th>V_tot</th>\n",
              "      <td>0.010000</td>\n",
              "    </tr>\n",
              "    <tr>\n",
              "      <th>W_tot</th>\n",
              "      <td>1.000000</td>\n",
              "    </tr>\n",
              "  </tbody>\n",
              "</table>\n",
              "</div>"
            ],
            "text/plain": [
              "             vector1\n",
              "                   1\n",
              "Vw_i        0.001005\n",
              "P_i    100000.000000\n",
              "air_n       0.363057\n",
              "T_i       298.000000\n",
              "V_vap       0.008995\n",
              "P_f    200000.000000\n",
              "V_tot       0.010000\n",
              "W_tot       1.000000"
            ]
          },
          "metadata": {
            "tags": []
          },
          "execution_count": 8
        }
      ]
    },
    {
      "cell_type": "code",
      "metadata": {
        "id": "fYn1Dd9d9gSB"
      },
      "source": [
        "# on to setting the paramter of our desired amount of moles of water vapor\n",
        "# copy and paste from original model and change from c. to r. because these are now\n",
        "# intermediate values, total volume (c.V_tot) is now our adjustable parameter\n",
        "\n",
        "def model2(c,r):\n",
        "    r.Pw = p.Pvap(c.T)[3]\n",
        "    r.V_vap = c.V_tot - c.Vw_i # Approximation - water in the vapor phase is negligible\n",
        "    r.air_n = c.P_i * r.V_vap / (R * c.T_i)\n",
        "    # moles of air\n",
        "\n",
        "    r.W_n_vap = r.Pw * r.V_vap / (R * c.T) \n",
        "    # moles of water in the vapor phase -- \n",
        "    # partial pressure of water * volume of vapor phase / RT\n",
        "\n",
        "    r.P = r.air_n  * R * c.T / r.V_vap + r.Pw\n",
        "\n",
        "    P_constraint = (c.P_f, r.P)\n",
        "    # pressure constraint -- makes so that the pressure we calculate is equal to\n",
        "    # the desired final pressure\n",
        "\n",
        "    W_n_constraint = (r.W_n_vap, c.W_n_vap_desired)\n",
        "    # number moles in vapor phase constraint -- makes so that calculated moles of\n",
        "    # water in the vapor phase is equal to the desired amount (0.3)\n",
        "\n",
        "    return (P_constraint, W_n_constraint)"
      ],
      "execution_count": 11,
      "outputs": []
    },
    {
      "cell_type": "code",
      "metadata": {
        "id": "yJ12zUP7YBsl",
        "outputId": "b1f1c13c-b77a-41a0-9c5e-73db8a5f6dd0",
        "colab": {
          "base_uri": "https://localhost:8080/",
          "height": 336
        }
      },
      "source": [
        "c=DotMap()\n",
        "c.W_tot = 1. # 1 kg\n",
        "c.V_tot = 0.01 # 10 Liters\n",
        "c.P_i = 1e5 # Pa air pressure\n",
        "c.P_f = 2e5 # Pa final pressure\n",
        "c.T_i = 298.\n",
        "\n",
        "c.W_n_vap_desired = 0.3 \n",
        "# want 0.3 moles of water in the vapor phase\n",
        "\n",
        "c.Vw_i = c.W_tot/p.rhol(c.T_i)[3]\n",
        "# initial volume of water\n",
        "\n",
        "c.T = Range(350, 300, 400) \n",
        "# final temperature\n",
        "\n",
        "c.V_tot = Range(0.01, 0., 0.3) \n",
        "# total container volume -- made adjustable so that we can solve for desired number\n",
        "# of moles of water in vapor phase (initial guess, min, max)\n",
        "\n",
        "vsc=VSC(c,model2)\n",
        "vsc.solve()"
      ],
      "execution_count": 17,
      "outputs": [
        {
          "output_type": "stream",
          "text": [
            "0.17209294672665715\n",
            "0.008306620035433327\n",
            "0.008306620035433327\n",
            "0.0015259971137814683\n",
            "0.00014629191998891317\n",
            "0.00014629191998891317\n",
            "3.665611594208479e-07\n",
            "3.665611594208479e-07\n",
            "3.665611594208479e-07\n",
            "6.630472553863636e-12\n",
            "6.630472553863636e-12\n",
            "6.630472553863636e-12\n",
            "6.630472553863636e-12\n",
            "6.630472553863636e-12\n",
            "5.229802711082758e-17\n",
            "5.229802711082758e-17\n",
            "5.229802711082758e-17\n",
            "5.229802711082758e-17\n",
            "3.3766925003181233e-21\n"
          ],
          "name": "stdout"
        }
      ]
    },
    {
      "cell_type": "code",
      "metadata": {
        "id": "MntD_gOGYEeM",
        "outputId": "79d57413-87ee-456d-a665-8c9d9aea02bc",
        "colab": {
          "base_uri": "https://localhost:8080/",
          "height": 136
        }
      },
      "source": [
        "vsc.vdf\n",
        "# shows now that to have 0.3 moles of water in the vapor phase, our temperature\n",
        "# stays roughly the same, but our container needs to be about 12 liters - before\n",
        "# it was 10 liters"
      ],
      "execution_count": 18,
      "outputs": [
        {
          "output_type": "execute_result",
          "data": {
            "text/html": [
              "<div>\n",
              "<style scoped>\n",
              "    .dataframe tbody tr th:only-of-type {\n",
              "        vertical-align: middle;\n",
              "    }\n",
              "\n",
              "    .dataframe tbody tr th {\n",
              "        vertical-align: top;\n",
              "    }\n",
              "\n",
              "    .dataframe thead tr th {\n",
              "        text-align: left;\n",
              "    }\n",
              "</style>\n",
              "<table border=\"1\" class=\"dataframe\">\n",
              "  <thead>\n",
              "    <tr>\n",
              "      <th></th>\n",
              "      <th>vector1</th>\n",
              "    </tr>\n",
              "    <tr>\n",
              "      <th></th>\n",
              "      <th>1</th>\n",
              "    </tr>\n",
              "  </thead>\n",
              "  <tbody>\n",
              "    <tr>\n",
              "      <th>T</th>\n",
              "      <td>365.719235</td>\n",
              "    </tr>\n",
              "    <tr>\n",
              "      <th>V_tot</th>\n",
              "      <td>0.012809</td>\n",
              "    </tr>\n",
              "  </tbody>\n",
              "</table>\n",
              "</div>"
            ],
            "text/plain": [
              "          vector1\n",
              "                1\n",
              "T      365.719235\n",
              "V_tot    0.012809"
            ]
          },
          "metadata": {
            "tags": []
          },
          "execution_count": 18
        }
      ]
    },
    {
      "cell_type": "code",
      "metadata": {
        "id": "YeyJFSKfeHim",
        "outputId": "35cd4e1c-c98b-41ab-dca0-bbea8793e324",
        "colab": {
          "base_uri": "https://localhost:8080/",
          "height": 225
        }
      },
      "source": [
        "vsc.rdf\n",
        "# shows our intermediate values again -- shows that desired pressure\n",
        "# is still at 200000 Pa"
      ],
      "execution_count": 19,
      "outputs": [
        {
          "output_type": "execute_result",
          "data": {
            "text/html": [
              "<div>\n",
              "<style scoped>\n",
              "    .dataframe tbody tr th:only-of-type {\n",
              "        vertical-align: middle;\n",
              "    }\n",
              "\n",
              "    .dataframe tbody tr th {\n",
              "        vertical-align: top;\n",
              "    }\n",
              "\n",
              "    .dataframe thead tr th {\n",
              "        text-align: left;\n",
              "    }\n",
              "</style>\n",
              "<table border=\"1\" class=\"dataframe\">\n",
              "  <thead>\n",
              "    <tr>\n",
              "      <th></th>\n",
              "      <th>vector1</th>\n",
              "    </tr>\n",
              "    <tr>\n",
              "      <th></th>\n",
              "      <th>1</th>\n",
              "    </tr>\n",
              "  </thead>\n",
              "  <tbody>\n",
              "    <tr>\n",
              "      <th>Pw</th>\n",
              "      <td>77275.424370</td>\n",
              "    </tr>\n",
              "    <tr>\n",
              "      <th>V_vap</th>\n",
              "      <td>0.011804</td>\n",
              "    </tr>\n",
              "    <tr>\n",
              "      <th>air_n</th>\n",
              "      <td>0.476443</td>\n",
              "    </tr>\n",
              "    <tr>\n",
              "      <th>W_n_vap</th>\n",
              "      <td>0.300000</td>\n",
              "    </tr>\n",
              "    <tr>\n",
              "      <th>P</th>\n",
              "      <td>199999.999978</td>\n",
              "    </tr>\n",
              "  </tbody>\n",
              "</table>\n",
              "</div>"
            ],
            "text/plain": [
              "               vector1\n",
              "                     1\n",
              "Pw        77275.424370\n",
              "V_vap         0.011804\n",
              "air_n         0.476443\n",
              "W_n_vap       0.300000\n",
              "P        199999.999978"
            ]
          },
          "metadata": {
            "tags": []
          },
          "execution_count": 19
        }
      ]
    },
    {
      "cell_type": "code",
      "metadata": {
        "id": "mc0G8YqXe7tG"
      },
      "source": [
        ""
      ],
      "execution_count": null,
      "outputs": []
    }
  ]
}